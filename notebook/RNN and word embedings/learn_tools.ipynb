{
 "cells": [
  {
   "cell_type": "code",
   "execution_count": 3,
   "metadata": {
    "collapsed": false
   },
   "outputs": [],
   "source": [
    "import matplotlib.pyplot as plt\n",
    "import math\n",
    "%matplotlib inline"
   ]
  },
  {
   "cell_type": "code",
   "execution_count": 2,
   "metadata": {
    "collapsed": false
   },
   "outputs": [],
   "source": [
    "def moving_average(a, n=3) :\n",
    "            ret = np.cumsum(a, dtype=float)\n",
    "            ret[n:] = ret[n:] - ret[:-n]\n",
    "            return ret[n - 1:] / n\n",
    "        \n",
    "def show_learning_history(history, show_validation=True):\n",
    "    x, y = zip(*((h['step'], h['loss']) for h in history if h.has_key('loss')))\n",
    "    av_over = math.ceil(len(x)/100.0)\n",
    "    plt.plot(moving_average(x,av_over), moving_average(y,av_over), 'r-')\n",
    "    \n",
    "    if show_validation:\n",
    "        x_val, y_val = zip(*((h['step'], h['val_loss']) for h in history if h.has_key('val_loss')))\n",
    "        av_over = math.ceil(len(x_val)/100.0)\n",
    "        plt.plot(moving_average(x_val, av_over), moving_average(y_val, av_over), 'b-')\n",
    "    \n",
    "    plt.ylabel('loss')\n",
    "    plt.xlabel('train itterations')\n",
    "    plt.show()\n",
    "    \n",
    "    print \"Lass 10 loss:\\n%s\" % '\\n'.join((str(h['loss']) for h in history[-10:]))\n",
    "    print \"Avg = %s\" % (sum(h['loss'] for h in history[-10:])/10)"
   ]
  }
 ],
 "metadata": {
  "anaconda-cloud": {},
  "kernelspec": {
   "display_name": "Python [default]",
   "language": "python",
   "name": "python2"
  },
  "language_info": {
   "codemirror_mode": {
    "name": "ipython",
    "version": 2
   },
   "file_extension": ".py",
   "mimetype": "text/x-python",
   "name": "python",
   "nbconvert_exporter": "python",
   "pygments_lexer": "ipython2",
   "version": "2.7.12"
  }
 },
 "nbformat": 4,
 "nbformat_minor": 1
}
