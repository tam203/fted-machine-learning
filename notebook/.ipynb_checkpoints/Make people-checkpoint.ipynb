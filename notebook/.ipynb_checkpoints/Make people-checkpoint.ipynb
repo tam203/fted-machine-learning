{
 "cells": [
  {
   "cell_type": "code",
   "execution_count": 76,
   "metadata": {
    "collapsed": false
   },
   "outputs": [],
   "source": [
    "import random\n",
    "import numpy as np\n",
    "import math\n",
    "import json\n",
    "import urllib2"
   ]
  },
  {
   "cell_type": "code",
   "execution_count": 129,
   "metadata": {
    "collapsed": false
   },
   "outputs": [],
   "source": [
    "WOMAN_DATA = [u for u in json.load(urllib2.urlopen(\"https://randomuser.me/api/?gender=female&inc=name,picture&results=5000\"))['results']]\n",
    "MAN_DATA = [u for u in json.load(urllib2.urlopen(\"https://randomuser.me/api/?gender=male&inc=name,picture&results=5000\"))['results']]"
   ]
  },
  {
   "cell_type": "code",
   "execution_count": null,
   "metadata": {
    "collapsed": true
   },
   "outputs": [],
   "source": []
  },
  {
   "cell_type": "code",
   "execution_count": 132,
   "metadata": {
    "collapsed": false
   },
   "outputs": [
    {
     "name": "stdout",
     "output_type": "stream",
     "text": [
      "A woman, 18 years old, previus salary of £27682, employment gap of  0 months, image = https://randomuser.me/api/portraits/women/89.jpg\n",
      "A   man, 36 years old, previus salary of £20803, employment gap of  5 months, image = https://randomuser.me/api/portraits/men/16.jpg\n",
      "A   man, 37 years old, previus salary of £35933, employment gap of  5 months, image = https://randomuser.me/api/portraits/men/84.jpg\n",
      "A woman, 35 years old, previus salary of £42550, employment gap of  5 months, image = https://randomuser.me/api/portraits/women/42.jpg\n",
      "A   man, 27 years old, previus salary of £33136, employment gap of  1 months, image = https://randomuser.me/api/portraits/men/66.jpg\n",
      "A   man, 34 years old, previus salary of £35181, employment gap of  0 months, image = https://randomuser.me/api/portraits/men/32.jpg\n",
      "A woman, 33 years old, previus salary of £30794, employment gap of  4 months, image = https://randomuser.me/api/portraits/women/60.jpg\n",
      "A   man, 38 years old, previus salary of £38555, employment gap of  1 months, image = https://randomuser.me/api/portraits/men/1.jpg\n",
      "A woman, 23 years old, previus salary of £23989, employment gap of  0 months, image = https://randomuser.me/api/portraits/women/31.jpg\n",
      "A woman, 27 years old, previus salary of £34811, employment gap of  1 months, image = https://randomuser.me/api/portraits/women/52.jpg\n"
     ]
    }
   ],
   "source": [
    "MAN = 1\n",
    "WOMAN = 0\n",
    "PHD = 2\n",
    "DEGREE = 1\n",
    "A_LEVEL =0\n",
    "\n",
    "def get_gender():\n",
    "    \"50/50 man or woman\"\n",
    "    return MAN if random.random() >= 0.5 else WOMAN\n",
    "\n",
    "def get_age(mean=30, spread=20):\n",
    "    return round(np.random.normal(mean, spread/2, 1)[0],0)\n",
    "\n",
    "def get_previous_salary(gender, age, mean=20000, spread=8000, male_bias= 1.3, age_bias_factor = 30):\n",
    "    \n",
    "    age_bias = (1 + math.log(age/(age_bias_factor*3) + 1))\n",
    "    \n",
    "    salary = np.random.normal(mean, spread/2, 1)[0]\n",
    "    salary = salary * male_bias if gender is MAN else salary\n",
    "    salary = salary * age_bias\n",
    "    return round(salary)\n",
    "\n",
    "def get_employment_gap(gender, age, spread=8, age_bias_range = (25,40), male_bias = -2):\n",
    "    spread += (male_bias if gender is MAN else 0)\n",
    "    gap = abs(np.random.normal(0, spread/2.0, 1)[0])\n",
    "    \n",
    "    age_mean = sum(age_bias_range) * (1.0/len(age_bias_range))\n",
    "    age_select = np.random.normal(age_mean, (age_bias_range[1]-age_bias_range[0]/2), 1)[0]\n",
    "    age_factor = age_select/(age_mean * 3) + 1\n",
    "    age_factor = age_factor if  age_bias_range[0] < age < age_bias_range[1] else 0\n",
    "    \n",
    "    gap = gap * age_factor\n",
    "    \n",
    "    return math.floor(gap)\n",
    "\n",
    "def get_education(gender, age):\n",
    "    level = np.random.normal(1, 0.3)\n",
    "    if age > 30:\n",
    "        level + 0.3\n",
    "    return round(level)\n",
    "\n",
    "def format_person(p):\n",
    "    s = \"A %5s\" % (\"man\" if p['gender'] == MAN else 'woman')\n",
    "    s += \", %2d years old\" % p['age']\n",
    "    s += \", previus salary of £%d\"% p['previous_salary']\n",
    "    s += \", employment gap of %2d months\" % p['employment_gap']\n",
    "    s += \", image = \" + str(p['image'])\n",
    "    return s\n",
    "\n",
    "people = []\n",
    "for i in range(10):\n",
    "    gender = get_gender()\n",
    "    age = get_age()\n",
    "    previous_salary = get_previous_salary(gender, age)\n",
    "    employment_gap = get_employment_gap(gender, age)\n",
    "    user = random.choice((MAN_DATA if gender is MAN else WOMAN_DATA))\n",
    "    p = {\n",
    "        'gender':gender,\n",
    "        'age':int(age),\n",
    "        'previous_salary': float(previous_salary),\n",
    "        'employment_gap':employment_gap,\n",
    "        'image':str(user['picture']['large']),\n",
    "        'name': \"%s %s %s\" % (user['name']['title'],user['name']['first'], user['name']['last']),\n",
    "        'education': get_education(gender, age)\n",
    "    }\n",
    "    people.append(p)\n",
    "    print format_person(p)"
   ]
  },
  {
   "cell_type": "code",
   "execution_count": 135,
   "metadata": {
    "collapsed": false,
    "scrolled": false
   },
   "outputs": [
    {
     "data": {
      "text/html": [
       "<h2>mrs juliette white</h2><img src='https://randomuser.me/api/portraits/women/89.jpg' alt='a person'><dl><dt>Gender</dt><dd>Female</dd><dt>Age</dt><dd>18</dd><dt>Previus salary</dt><dd>27682</dd><dt>Employment gap in last 5 years</dt><dd>0 months</dd><dt>Highest level education</dt><dd>BA</dd></dl>"
      ],
      "text/plain": [
       "<IPython.core.display.HTML object>"
      ]
     },
     "metadata": {},
     "output_type": "display_data"
    },
    {
     "data": {
      "text/html": [
       "<h2>mr luis cruz</h2><img src='https://randomuser.me/api/portraits/men/16.jpg' alt='a person'><dl><dt>Gender</dt><dd>Male</dd><dt>Age</dt><dd>36</dd><dt>Previus salary</dt><dd>20803</dd><dt>Employment gap in last 5 years</dt><dd>5 months</dd><dt>Highest level education</dt><dd>BA</dd></dl>"
      ],
      "text/plain": [
       "<IPython.core.display.HTML object>"
      ]
     },
     "metadata": {},
     "output_type": "display_data"
    },
    {
     "data": {
      "text/html": [
       "<h2>mr thomas harris</h2><img src='https://randomuser.me/api/portraits/men/84.jpg' alt='a person'><dl><dt>Gender</dt><dd>Male</dd><dt>Age</dt><dd>37</dd><dt>Previus salary</dt><dd>35933</dd><dt>Employment gap in last 5 years</dt><dd>5 months</dd><dt>Highest level education</dt><dd>A-Level</dd></dl>"
      ],
      "text/plain": [
       "<IPython.core.display.HTML object>"
      ]
     },
     "metadata": {},
     "output_type": "display_data"
    },
    {
     "data": {
      "text/html": [
       "<h2>miss debbie chavez</h2><img src='https://randomuser.me/api/portraits/women/42.jpg' alt='a person'><dl><dt>Gender</dt><dd>Female</dd><dt>Age</dt><dd>35</dd><dt>Previus salary</dt><dd>42550</dd><dt>Employment gap in last 5 years</dt><dd>5 months</dd><dt>Highest level education</dt><dd>BA</dd></dl>"
      ],
      "text/plain": [
       "<IPython.core.display.HTML object>"
      ]
     },
     "metadata": {},
     "output_type": "display_data"
    },
    {
     "data": {
      "text/html": [
       "<h2>mr mariano mendez</h2><img src='https://randomuser.me/api/portraits/men/66.jpg' alt='a person'><dl><dt>Gender</dt><dd>Male</dd><dt>Age</dt><dd>27</dd><dt>Previus salary</dt><dd>33136</dd><dt>Employment gap in last 5 years</dt><dd>1 months</dd><dt>Highest level education</dt><dd>BA</dd></dl>"
      ],
      "text/plain": [
       "<IPython.core.display.HTML object>"
      ]
     },
     "metadata": {},
     "output_type": "display_data"
    },
    {
     "data": {
      "text/html": [
       "<h2>mr topias niemi</h2><img src='https://randomuser.me/api/portraits/men/32.jpg' alt='a person'><dl><dt>Gender</dt><dd>Male</dd><dt>Age</dt><dd>34</dd><dt>Previus salary</dt><dd>35181</dd><dt>Employment gap in last 5 years</dt><dd>0 months</dd><dt>Highest level education</dt><dd>BA</dd></dl>"
      ],
      "text/plain": [
       "<IPython.core.display.HTML object>"
      ]
     },
     "metadata": {},
     "output_type": "display_data"
    },
    {
     "data": {
      "text/html": [
       "<h2>mrs sharon meyer</h2><img src='https://randomuser.me/api/portraits/women/60.jpg' alt='a person'><dl><dt>Gender</dt><dd>Female</dd><dt>Age</dt><dd>33</dd><dt>Previus salary</dt><dd>30794</dd><dt>Employment gap in last 5 years</dt><dd>4 months</dd><dt>Highest level education</dt><dd>BA</dd></dl>"
      ],
      "text/plain": [
       "<IPython.core.display.HTML object>"
      ]
     },
     "metadata": {},
     "output_type": "display_data"
    },
    {
     "data": {
      "text/html": [
       "<h2>mr etienne roy</h2><img src='https://randomuser.me/api/portraits/men/1.jpg' alt='a person'><dl><dt>Gender</dt><dd>Male</dd><dt>Age</dt><dd>38</dd><dt>Previus salary</dt><dd>38555</dd><dt>Employment gap in last 5 years</dt><dd>1 months</dd><dt>Highest level education</dt><dd>BA</dd></dl>"
      ],
      "text/plain": [
       "<IPython.core.display.HTML object>"
      ]
     },
     "metadata": {},
     "output_type": "display_data"
    },
    {
     "data": {
      "text/html": [
       "<h2>miss sarah lévesque</h2><img src='https://randomuser.me/api/portraits/women/31.jpg' alt='a person'><dl><dt>Gender</dt><dd>Female</dd><dt>Age</dt><dd>23</dd><dt>Previus salary</dt><dd>23989</dd><dt>Employment gap in last 5 years</dt><dd>0 months</dd><dt>Highest level education</dt><dd>BA</dd></dl>"
      ],
      "text/plain": [
       "<IPython.core.display.HTML object>"
      ]
     },
     "metadata": {},
     "output_type": "display_data"
    },
    {
     "data": {
      "text/html": [
       "<h2>mrs cléa roche</h2><img src='https://randomuser.me/api/portraits/women/52.jpg' alt='a person'><dl><dt>Gender</dt><dd>Female</dd><dt>Age</dt><dd>27</dd><dt>Previus salary</dt><dd>34811</dd><dt>Employment gap in last 5 years</dt><dd>1 months</dd><dt>Highest level education</dt><dd>BA</dd></dl>"
      ],
      "text/plain": [
       "<IPython.core.display.HTML object>"
      ]
     },
     "metadata": {},
     "output_type": "display_data"
    }
   ],
   "source": [
    "from IPython.core.display import display, HTML\n",
    "\n",
    "def as_html(p):\n",
    "    view = \"<h2>%s</h2>\" % p['name']\n",
    "    view += \"<img src='%s' alt='a person'>\" % str(p['image'])\n",
    "    view += \"<dl>\"\n",
    "    view += \"<dt>Gender</dt><dd>%s</dd>\" % (\"Male\" if p['gender'] is MAN else \"Female\")\n",
    "    view += \"<dt>Age</dt><dd>%d</dd>\" % p['age'] \n",
    "    view += \"<dt>Previus salary</dt><dd>%.0f</dd>\" % p['previous_salary']\n",
    "    view += \"<dt>Employment gap in last 5 years</dt><dd>%d months</dd>\" % p['employment_gap'] \n",
    "    view += \"<dt>Highest level education</dt><dd>%s</dd>\" % {PHD:\"PHd.\", A_LEVEL:\"A-Level\",DEGREE:\"BA\"}[p['education']]\n",
    "\n",
    "    \n",
    "\n",
    "    \n",
    "    view += \"</dl>\"\n",
    "    return view\n",
    "\n",
    "for p in people:\n",
    "    display(HTML(as_html(p)))"
   ]
  }
 ],
 "metadata": {
  "anaconda-cloud": {},
  "kernelspec": {
   "display_name": "Python [default]",
   "language": "python",
   "name": "python2"
  },
  "language_info": {
   "codemirror_mode": {
    "name": "ipython",
    "version": 2
   },
   "file_extension": ".py",
   "mimetype": "text/x-python",
   "name": "python",
   "nbconvert_exporter": "python",
   "pygments_lexer": "ipython2",
   "version": "2.7.12"
  }
 },
 "nbformat": 4,
 "nbformat_minor": 1
}
