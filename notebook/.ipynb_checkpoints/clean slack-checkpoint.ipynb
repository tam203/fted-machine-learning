{
 "cells": [
  {
   "cell_type": "code",
   "execution_count": 1,
   "metadata": {
    "collapsed": true
   },
   "outputs": [],
   "source": [
    "import re"
   ]
  },
  {
   "cell_type": "code",
   "execution_count": 39,
   "metadata": {
    "collapsed": false
   },
   "outputs": [
    {
     "ename": "IOError",
     "evalue": "[Errno 2] No such file or directory: 'clean.general.txt'",
     "output_type": "error",
     "traceback": [
      "\u001b[0;31m\u001b[0m",
      "\u001b[0;31mIOError\u001b[0mTraceback (most recent call last)",
      "\u001b[0;32m<ipython-input-39-84c7f23bc3b7>\u001b[0m in \u001b[0;36m<module>\u001b[0;34m()\u001b[0m\n\u001b[0;32m----> 1\u001b[0;31m \u001b[0;32mwith\u001b[0m \u001b[0mopen\u001b[0m\u001b[0;34m(\u001b[0m\u001b[0;34m\"clean.general.txt\"\u001b[0m\u001b[0;34m)\u001b[0m \u001b[0;32mas\u001b[0m \u001b[0mfp\u001b[0m\u001b[0;34m:\u001b[0m\u001b[0;34m\u001b[0m\u001b[0m\n\u001b[0m\u001b[1;32m      2\u001b[0m     \u001b[0mdata\u001b[0m \u001b[0;34m=\u001b[0m \u001b[0mfp\u001b[0m\u001b[0;34m.\u001b[0m\u001b[0mread\u001b[0m\u001b[0;34m(\u001b[0m\u001b[0;34m)\u001b[0m\u001b[0;34m\u001b[0m\u001b[0m\n",
      "\u001b[0;31mIOError\u001b[0m: [Errno 2] No such file or directory: 'clean.general.txt'"
     ]
    }
   ],
   "source": [
    "with open(\"clean.general.txt\") as fp:\n",
    "    data = fp.read()"
   ]
  },
  {
   "cell_type": "code",
   "execution_count": 37,
   "metadata": {
    "collapsed": false
   },
   "outputs": [
    {
     "name": "stdout",
     "output_type": "stream",
     "text": [
      "jacobtomlinson: make sure the box is the right one, and use `ssh-keygen -R hostname` to clear the keys\n",
      "alexhilson: ok, I use -A for agent forwarding rather than deploying my key\n",
      "niall: (of course i'll switch to hoppin - but just in princple)\n",
      "niall: so how do i make it work on gateway again?\n",
      "jacobtomlinson: \n",
      "jacobtomlinson: we should all have a copy of them locally and use our own keys to hop through gateway\n",
      "jacobtomlinson: @alex, because its more secure. We shouldnt really keep the gateway keys on gateway.\n",
      "jacobtomlinson: the stack has probably been redeployed since you last went there\n",
      "niall: etc\n",
      "146264\n",
      "83280\n"
     ]
    }
   ],
   "source": [
    "code = re.compile(\"```.*?```\", re.DOTALL)\n",
    "url = re.compile(\"<.*?>\")\n",
    "\n",
    "print url.sub(\"\",\"\"\"jacobtomlinson: make sure the box is the right one, and use `ssh-keygen -R hostname` to clear the keys\n",
    "alexhilson: ok, I use -A for agent forwarding rather than deploying my key\n",
    "niall: (of course i'll switch to hoppin - but just in princple)\n",
    "niall: so how do i make it work on gateway again?\n",
    "jacobtomlinson: <http://blog.scottlowe.org/2015/11/21/using-ssh-bastion-host/>\n",
    "jacobtomlinson: we should all have a copy of them locally and use our own keys to hop through gateway\n",
    "jacobtomlinson: @alex, because its more secure. We shouldnt really keep the gateway keys on gateway.\n",
    "jacobtomlinson: the stack has probably been redeployed since you last went there\n",
    "niall: etc\"\"\")\n",
    "print len(data)\n",
    "clean = code.sub(\"\", data)\n",
    "clean = url.sub(\"\", clean)\n",
    "#print clean[:3000]\n",
    "print len(clean)\n",
    "\n",
    "with open(\"clean.slack.txt\", 'w') as fp:\n",
    "    fp.write(clean)"
   ]
  },
  {
   "cell_type": "code",
   "execution_count": null,
   "metadata": {
    "collapsed": true
   },
   "outputs": [],
   "source": []
  }
 ],
 "metadata": {
  "kernelspec": {
   "display_name": "Python [default]",
   "language": "python",
   "name": "python2"
  },
  "language_info": {
   "codemirror_mode": {
    "name": "ipython",
    "version": 2
   },
   "file_extension": ".py",
   "mimetype": "text/x-python",
   "name": "python",
   "nbconvert_exporter": "python",
   "pygments_lexer": "ipython2",
   "version": "2.7.12"
  }
 },
 "nbformat": 4,
 "nbformat_minor": 1
}
