{
 "cells": [
  {
   "cell_type": "code",
   "execution_count": 12,
   "metadata": {
    "collapsed": false
   },
   "outputs": [],
   "source": [
    "import random\n",
    "import numpy as np\n",
    "import tensorflow as tf\n",
    "import matplotlib.pyplot as plt\n",
    "import math"
   ]
  },
  {
   "cell_type": "code",
   "execution_count": 2,
   "metadata": {
    "collapsed": false
   },
   "outputs": [
    {
     "name": "stdout",
     "output_type": "stream",
     "text": [
      "Error:name 'words' is not defined\n",
      "\n",
      "Bible has 889970 `words`, vocab size 12483, word 202 is sorroweth, id for 'the' is 3748 \n"
     ]
    }
   ],
   "source": [
    "%run 'bible_data.ipynb'\n",
    "words, vdict, rvdict = bible_as_words_inc_punc()\n",
    "vocab_size = len(vdict)\n",
    "print \"Bible has %s `words`, vocab size %s, word %s is %s, id for '%s' is %s \" % (\n",
    "    len(words), vocab_size, 202, vdict[202], 'the', rvdict['the'])"
   ]
  },
  {
   "cell_type": "code",
   "execution_count": 3,
   "metadata": {
    "collapsed": false
   },
   "outputs": [],
   "source": [
    "# Prep Scipgram data\n",
    "X_Y = []\n",
    "skips = 1\n",
    "for i, word in enumerate(words):\n",
    "    if i < skips or i >= len(words) - skips - 1: \n",
    "        continue\n",
    "    for skip in [s for s in xrange(-skips,skips +1) if s is not 0]:\n",
    "        X_Y.append((rvdict[word], rvdict[words[i + skip]]))\n",
    "random.shuffle(X_Y)"
   ]
  },
  {
   "cell_type": "code",
   "execution_count": 4,
   "metadata": {
    "collapsed": false,
    "scrolled": true
   },
   "outputs": [
    {
     "name": "stdout",
     "output_type": "stream",
     "text": [
      "1778934 train examples, 1000 validation examples\n"
     ]
    }
   ],
   "source": [
    "num_validation = 1000\n",
    "val_X_Y= X_Y[:num_validation]\n",
    "X_Y = X_Y[num_validation:]\n",
    "print (\"%s train examples, %s validation examples\" % (len(X_Y), len(val_X_Y)))"
   ]
  },
  {
   "cell_type": "code",
   "execution_count": 5,
   "metadata": {
    "collapsed": false
   },
   "outputs": [
    {
     "name": "stdout",
     "output_type": "stream",
     "text": [
      "Net built!\n"
     ]
    }
   ],
   "source": [
    "graph = tf.Graph()\n",
    "with graph.as_default():\n",
    "    num_embed_dims = 32\n",
    "    \n",
    "    # Train inputs\n",
    "    train_labels_in = tf.placeholder(tf.int64, [None], name=\"train_word_labels\")\n",
    "    train_labels = tf.reshape(train_labels_in, [-1,1], name=\"train_labels\")\n",
    "    train_word_ids = tf.placeholder(tf.int64, [None], name=\"train_word_ids\")\n",
    "    \n",
    "    # Validation inputs\n",
    "    val_labels_in = tf.placeholder(tf.int64, [None], name=\"val_word_labels\")\n",
    "    val_labels = tf.reshape(val_labels_in, [-1,1], name=\"val_labels\")\n",
    "    val_word_ids = tf.placeholder(tf.int64, [None], name=\"val_word_ids\")\n",
    "    \n",
    "    \n",
    "    embeddings = tf.Variable(tf.random_normal([vocab_size, num_embed_dims], 0.0, 0.1), name=\"Embeddings\")\n",
    "    w = tf.Variable(tf.random_normal([vocab_size, num_embed_dims], 0.0, 1), name=\"Output_Weight\")\n",
    "    b = tf.Variable(tf.zeros([vocab_size]), name=\"Output_Bias\")\n",
    "\n",
    "    def model(in_tensor, name=None):\n",
    "        name = \"\" if name is None else name + '_'\n",
    "        in_embeddings = tf.nn.embedding_lookup(embeddings, in_tensor, name=(name+\"input_embeddings\"))\n",
    "        return in_embeddings\n",
    "    \n",
    "    train_embeddings = model(train_word_ids)\n",
    "    loss = tf.reduce_mean(tf.nn.sampled_softmax_loss(w, b, train_embeddings, train_labels,\n",
    "                                                     100, vocab_size, name=\"train_sampled_softmax\"),\n",
    "                          name=\"loss\")\n",
    "    train_embeddings = tf.Print(loss, [train_embeddings], 'train embeddings')\n",
    "    optimzer = tf.train.AdamOptimizer(0.01).minimize(loss)\n",
    "    \n",
    "    val_loss = tf.reduce_mean(tf.nn.sampled_softmax_loss(w, b, model(val_word_ids), val_labels,\n",
    "                                                     100, vocab_size, name=\"val_sample_softmax\"),\n",
    "                             name=\"val_loss\")\n",
    "\n",
    "print (\"Net built!\")"
   ]
  },
  {
   "cell_type": "code",
   "execution_count": 10,
   "metadata": {
    "collapsed": false
   },
   "outputs": [],
   "source": [
    "%matplotlib inline\n",
    "def moving_average(a, n=3) :\n",
    "            ret = np.cumsum(a, dtype=float)\n",
    "            ret[n:] = ret[n:] - ret[:-n]\n",
    "            return ret[n - 1:] / n\n",
    "        \n",
    "def show_learning_history(history, show_validation=True):\n",
    "    x, y = zip(*((h['step'], h['loss']) for h in history if h.has_key('loss')))\n",
    "    av_over = math.ceil(len(x)/100.0)\n",
    "    plt.plot(moving_average(x,av_over), moving_average(y,av_over), 'r-')\n",
    "    \n",
    "    if show_validation:\n",
    "        x_val, y_val = zip(*((h['step'], h['val_loss']) for h in history if h.has_key('val_loss')))\n",
    "        av_over = math.ceil(len(x_val)/100.0)\n",
    "        plt.plot(moving_average(x_val, av_over), moving_average(y_val, av_over), 'b-')\n",
    "    \n",
    "    plt.ylabel('loss')\n",
    "    plt.xlabel('train itterations')\n",
    "    plt.show()\n",
    "    \n",
    "    print \"Lass 10 loss:\\n%s\" % '\\n'.join((str(h['loss']) for h in history[-10:]))\n",
    "    print \"Avg = %s\" % (sum(h['loss'] for h in history[-10:])/10)"
   ]
  },
  {
   "cell_type": "code",
   "execution_count": 13,
   "metadata": {
    "collapsed": false
   },
   "outputs": [
    {
     "name": "stdout",
     "output_type": "stream",
     "text": [
      "Validation loss: 4.00496\n",
      "Validation loss: 3.68808\n",
      "Validation loss: 3.71677\n",
      "Validation loss: 3.89057\n",
      "Validation loss: 3.8187\n",
      "Validation loss: 3.53639\n",
      "Validation loss: 3.73288\n",
      "Validation loss: 3.58429\n",
      "Validation loss: 3.18594\n",
      "Validation loss: 3.34493\n"
     ]
    },
    {
     "name": "stderr",
     "output_type": "stream",
     "text": [
      "/root/miniconda2/lib/python2.7/site-packages/ipykernel/__main__.py:4: VisibleDeprecationWarning: using a non-integer number instead of an integer will result in an error in the future\n",
      "/root/miniconda2/lib/python2.7/site-packages/ipykernel/__main__.py:5: VisibleDeprecationWarning: using a non-integer number instead of an integer will result in an error in the future\n"
     ]
    },
    {
     "data": {
      "image/png": "[encoded data removed]",
      "text/plain": [
       "<matplotlib.figure.Figure at 0x7f34c2316d90>"
      ]
     },
     "metadata": {},
     "output_type": "display_data"
    },
    {
     "name": "stdout",
     "output_type": "stream",
     "text": [
      "Lass 10 loss:\n",
      "2.74296\n",
      "4.11205\n",
      "3.97323\n",
      "4.47189\n",
      "3.58394\n",
      "2.89752\n",
      "2.66039\n",
      "3.66658\n",
      "2.67429\n",
      "2.9429\n",
      "Avg = 3.37257351875\n",
      "Validation loss: 3.20825\n",
      "Validation loss: 3.01652\n",
      "Validation loss: 3.24357\n",
      "Validation loss: 3.31573\n",
      "Validation loss: 3.40817\n",
      "Validation loss: 3.26034\n"
     ]
    },
    {
     "ename": "KeyboardInterrupt",
     "evalue": "",
     "output_type": "error",
     "traceback": [
      "\u001b[0;31m\u001b[0m",
      "\u001b[0;31mKeyboardInterrupt\u001b[0mTraceback (most recent call last)",
      "\u001b[0;32m<ipython-input-13-1391407197d5>\u001b[0m in \u001b[0;36m<module>\u001b[0;34m()\u001b[0m\n\u001b[1;32m     14\u001b[0m \u001b[0;34m\u001b[0m\u001b[0m\n\u001b[1;32m     15\u001b[0m         \u001b[0;32mif\u001b[0m \u001b[0mstep\u001b[0m \u001b[0;34m%\u001b[0m \u001b[0meval_at\u001b[0m \u001b[0;34m==\u001b[0m \u001b[0;36m0\u001b[0m\u001b[0;34m:\u001b[0m\u001b[0;34m\u001b[0m\u001b[0m\n\u001b[0;32m---> 16\u001b[0;31m             \u001b[0mval_batch_x\u001b[0m\u001b[0;34m,\u001b[0m \u001b[0mval_batch_y\u001b[0m \u001b[0;34m=\u001b[0m \u001b[0mzip\u001b[0m\u001b[0;34m(\u001b[0m\u001b[0;34m*\u001b[0m\u001b[0mX_Y\u001b[0m\u001b[0;34m)\u001b[0m\u001b[0;34m\u001b[0m\u001b[0m\n\u001b[0m\u001b[1;32m     17\u001b[0m             \u001b[0mvl\u001b[0m \u001b[0;34m=\u001b[0m \u001b[0mval_loss\u001b[0m\u001b[0;34m.\u001b[0m\u001b[0meval\u001b[0m\u001b[0;34m(\u001b[0m\u001b[0;34m{\u001b[0m\u001b[0mval_word_ids\u001b[0m\u001b[0;34m:\u001b[0m\u001b[0mval_batch_x\u001b[0m\u001b[0;34m,\u001b[0m \u001b[0mval_labels_in\u001b[0m\u001b[0;34m:\u001b[0m\u001b[0mval_batch_y\u001b[0m\u001b[0;34m}\u001b[0m\u001b[0;34m)\u001b[0m\u001b[0;34m\u001b[0m\u001b[0m\n\u001b[1;32m     18\u001b[0m             \u001b[0mhistory\u001b[0m\u001b[0;34m[\u001b[0m\u001b[0;34m-\u001b[0m\u001b[0;36m1\u001b[0m\u001b[0;34m]\u001b[0m\u001b[0;34m.\u001b[0m\u001b[0mupdate\u001b[0m\u001b[0;34m(\u001b[0m\u001b[0;34m{\u001b[0m\u001b[0;34m'val_loss'\u001b[0m\u001b[0;34m:\u001b[0m\u001b[0mvl\u001b[0m\u001b[0;34m}\u001b[0m\u001b[0;34m)\u001b[0m\u001b[0;34m\u001b[0m\u001b[0m\n",
      "\u001b[0;31mKeyboardInterrupt\u001b[0m: "
     ]
    }
   ],
   "source": [
    "batch_size = 10\n",
    "train_steps = 10000\n",
    "eval_at = 10\n",
    "summary = 100\n",
    "history = []\n",
    "with tf.Session(graph=graph) as sess:\n",
    "\n",
    "    tf.initialize_all_variables().run()\n",
    "    \n",
    "    for step in xrange(train_steps):\n",
    "        batch_x, batch_y = zip(*random.sample(X_Y, batch_size))\n",
    "        l, _ = sess.run([loss, optimzer], feed_dict={train_word_ids: batch_x, train_labels_in: batch_y})\n",
    "        history.append({'loss':l, 'step':step})\n",
    "        \n",
    "        if step % eval_at == 0:\n",
    "            val_batch_x, val_batch_y = zip(*X_Y)\n",
    "            vl = val_loss.eval({val_word_ids:val_batch_x, val_labels_in:val_batch_y})\n",
    "            history[-1].update({'val_loss':vl})\n",
    "            print (\"Validation loss: %s\" % vl)\n",
    "            \n",
    "        if step % summary == summary -1 :\n",
    "            show_learning_history(history)\n",
    "            \n",
    "                    \n",
    "        \n",
    "\n",
    "        "
   ]
  }
 ],
 "metadata": {
  "anaconda-cloud": {},
  "kernelspec": {
   "display_name": "Python [default]",
   "language": "python",
   "name": "python2"
  },
  "language_info": {
   "codemirror_mode": {
    "name": "ipython",
    "version": 2
   },
   "file_extension": ".py",
   "mimetype": "text/x-python",
   "name": "python",
   "nbconvert_exporter": "python",
   "pygments_lexer": "ipython2",
   "version": "2.7.12"
  }
 },
 "nbformat": 4,
 "nbformat_minor": 1
}
