{
 "cells": [
  {
   "cell_type": "code",
   "execution_count": 20,
   "metadata": {
    "collapsed": true
   },
   "outputs": [],
   "source": [
    "import glob\n",
    "import json"
   ]
  },
  {
   "cell_type": "code",
   "execution_count": 23,
   "metadata": {
    "collapsed": false
   },
   "outputs": [
    {
     "name": "stdout",
     "output_type": "stream",
     "text": [
      "<@U03DGB795|niall> has joined the channel\n",
      "<@U03DH9SQ3|mike> has joined the channel\n",
      "<@U03E2NTJL|alastair> has joined the channel\n",
      "<@U03E16U1L|tpowellmeto> has joined the channel\n",
      "Hi all - thought I'd just set up this slack channel so those who are not interested can easily filter out the noise. Tom - don't feel obliged - I just added you because you seemed interested. The implication of that is that Alistair and Mike should feel obliged ;D\n",
      "OK - my toy example repo here\n",
      "<https://github.com/niallrobinson/test-volume-rendering>\n",
      "stack overflow question here\n",
      "<http://stackoverflow.com/questions/28369626/volume-rendering-is-more-transparent-from-one-direction-that-another>\n",
      "roll up roll up and claim the SO point if you can earn them!\n",
      "latest development is this: when I march the rays away from the camera, it only renders data on the back side i.e. not away from the edge of the cube, and not on the front side.\n",
      "interestingly, when I march the rays *towards* the camera, the opposite happens i.e. it only renders on the front side, not data away from the edge and not when its on the back side.\n",
      "you can see for yourself by checkout out the repo and switching between the master branch (away from camera) and the march_rays_towards_camera branch (which..well y'know)\n",
      "So here's my UK weather 3D repo <https://github.com/msaunby/uk-weather-3d>\n",
      "And the WCS browser, with horrible UI, is here <http://python-wetoffice.rhcloud.com/static/browse.html>\n",
      "hi michle\n",
      "sounds like the ear lowering was a success\n",
      "I'm not sure both were lowered by same distance; but tis done.\n",
      "Now for a tea break.\n",
      "another hint - if I remove the `if accumulatedAlpha &gt;= 1.0; break` condition, then the cube disappears. that isn't what I expected to happen. I thought that condition was just a performance thing\n",
      "think ive sorted it - have a look and see what you think!\n",
      "i was accumulating alpha in the color accumulator - it was a vec3 vs vec4 - ihacked it better but my battery is about to die, so I'll tidy it up a little when I have more juice.\n",
      "I'll take a look.  Another random thought I has was - what happens if you nest cubes? Russian doll style.\n",
      "that's essentially one of the test data sets\n",
      "a cube with a blob in the middle, and another at the corner\n",
      "its called _centre.png or something\n",
      "<@U03F73MU0|alberto.arribas> has joined the channel\n",
      "Just so you guys know, I'm working on improving the tiling of numpy arrays into pngs that use the RGBA channels as well.\n",
      "After various failed attempts to create a simpler ocean using just shaders I found this article which is the clearest example so far <http://www.html5rocks.com/en/tutorials/webgl/shaders/>\n",
      "Though I say that having skimmed various others and read all sorts of code examples.  I think what I'll have to do is get mine working and then pick it apart and blog how it all works.\n",
      "I've read that blog - there is a bunch of good tutorials on HTML5 rocks\n",
      "yeh - i'd also like to write something about what I've been doing.\n",
      "Hopefully itll go live some time in the next couple of weeks\n"
     ]
    }
   ],
   "source": [
    "for filepath in glob.glob(r'allslack/*/*.json')[:3]:\n",
    "    with open(filepath) as fp:\n",
    "        data = json.load(fp)\n",
    "    for msg in data:\n",
    "        print msg['text']"
   ]
  }
 ],
 "metadata": {
  "anaconda-cloud": {},
  "kernelspec": {
   "display_name": "Python [conda root]",
   "language": "python",
   "name": "conda-root-py"
  },
  "language_info": {
   "codemirror_mode": {
    "name": "ipython",
    "version": 2
   },
   "file_extension": ".py",
   "mimetype": "text/x-python",
   "name": "python",
   "nbconvert_exporter": "python",
   "pygments_lexer": "ipython2",
   "version": "2.7.12"
  }
 },
 "nbformat": 4,
 "nbformat_minor": 1
}
