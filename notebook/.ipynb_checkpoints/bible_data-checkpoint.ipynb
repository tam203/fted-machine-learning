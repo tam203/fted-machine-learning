{
 "cells": [
  {
   "cell_type": "code",
   "execution_count": 1,
   "metadata": {
    "collapsed": true
   },
   "outputs": [],
   "source": [
    "import re"
   ]
  },
  {
   "cell_type": "code",
   "execution_count": 32,
   "metadata": {
    "collapsed": false
   },
   "outputs": [],
   "source": [
    "def bible_as_words_inc_punc():\n",
    "    word_regex = re.compile( r\"([A-z0-1]*)\")\n",
    "    words = []\n",
    "    with open(\"bible.txt\") as fp:\n",
    "        for line in fp:\n",
    "            words += [w for w in word_regex.sub(r' \\1 ', line.lower()).strip().split(' ') if len(w.strip()) >= 1]\n",
    "    vocab_dict = {i:w for i, w in enumerate(set(words))}\n",
    "    rev_vocab_dict = {w:i for i, w in vocab_dict.items()}\n",
    "    return words, vocab_dict, rev_vocab_dict\n"
   ]
  }
 ],
 "metadata": {
  "anaconda-cloud": {},
  "kernelspec": {
   "display_name": "Python [default]",
   "language": "python",
   "name": "python2"
  },
  "language_info": {
   "codemirror_mode": {
    "name": "ipython",
    "version": 2
   },
   "file_extension": ".py",
   "mimetype": "text/x-python",
   "name": "python",
   "nbconvert_exporter": "python",
   "pygments_lexer": "ipython2",
   "version": "2.7.12"
  }
 },
 "nbformat": 4,
 "nbformat_minor": 1
}
