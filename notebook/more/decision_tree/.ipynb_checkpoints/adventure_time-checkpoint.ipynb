{
 "cells": [
  {
   "cell_type": "code",
   "execution_count": null,
   "metadata": {
    "collapsed": true
   },
   "outputs": [],
   "source": [
    "from battle import *\n",
    "import pprint\n",
    "%run 'tree.ipynb'"
   ]
  },
  {
   "cell_type": "code",
   "execution_count": null,
   "metadata": {
    "collapsed": true
   },
   "outputs": [],
   "source": [
    "# Create a knight\n",
    "sir_cumstance = generateKnightStats()\n",
    "\n",
    "# Tell us about him\n",
    "print \"Sir Cumstance is \", statsToString(sir_cumstance)"
   ]
  },
  {
   "cell_type": "code",
   "execution_count": null,
   "metadata": {
    "collapsed": true
   },
   "outputs": [],
   "source": [
    "# Have an adventure\n",
    "print \"he was exploring the glade and meet an evil wizard, who atacked...\""
   ]
  },
  {
   "cell_type": "code",
   "execution_count": null,
   "metadata": {
    "collapsed": true
   },
   "outputs": [],
   "source": [
    "# With a battle\n",
    "# Python note: The * notation is unpacking e.g.\n",
    "#  battle(*sir_cumstance) = battle(sir_cumstance[0], sir_cumstance[1], sir_cumstance[2], sir_cumstance[3])\n",
    "result = battle(*sir_cumstance)\n",
    "print \"the result is...\"\n",
    "print battleResultToText(result)"
   ]
  },
  {
   "cell_type": "code",
   "execution_count": null,
   "metadata": {
    "collapsed": true
   },
   "outputs": [],
   "source": [
    "# Have 100 battles to collect some data to learn from\n",
    "knightStats, battleResults = haveSomeBattles(1000)\n",
    "i = 4\n",
    "print \"One of the battles (number %s) was %s resulting in %s\" %(i, statsToString(knightStats[i]), battleResultToText(battleResults[i]))\n",
    "print \"%s%% of battles won\" % (100*sum(battleResults)/len(battleResults))"
   ]
  },
  {
   "cell_type": "code",
   "execution_count": null,
   "metadata": {
    "collapsed": true
   },
   "outputs": [],
   "source": [
    "# Create a decision tree by learning from the battle data\n",
    "battleTree = makeTree(knightStats, battleResults, 4)\n",
    "\n",
    "# We can experiment with different tree depths, this can lead to over fitting the data,\n",
    "# especially if we have a small data set.\n",
    "# battleTree = makeTree(knightStats, battleResults, 100)\n",
    "\n",
    "# Remind our self's which index is which skill\n",
    "print \"strength (index 0), speed (index 1), weapon level (index 2), spells (index 3)\"\n",
    "\n",
    "# Print out tree\n",
    "pprint.pprint(battleTree)"
   ]
  },
  {
   "cell_type": "code",
   "execution_count": 11,
   "metadata": {
    "collapsed": false
   },
   "outputs": [
    {
     "name": "stdout",
     "output_type": "stream",
     "text": [
      "We predicted 872 out of 1000 correct, that's 87.2%\n",
      "`testting` against my training data I got 864 out of 1000 correct, that's 86.4%.\n"
     ]
    }
   ],
   "source": [
    "# Test the accuracy of out tree by having lots of battles\n",
    "correct = []\n",
    "for i in xrange(1000):\n",
    "    s = generateKnightStats()\n",
    "    p = applyTree(battleTree, s)\n",
    "    r = battle(*s)\n",
    "    correct.append(1-abs(r - p))\n",
    "    #print \"Given: \" + (statsToString(s)) + \"\\nI predict: \" + battleResultToText(p) + \"\\nResult is: \" + battleResultToText(r) + \"\\n\"\n",
    "\n",
    "print \"We predicted %s out of %s correct, that's %s%%\" % (sum(correct), len(correct), ((sum(correct)*100.0)/len(correct)))\n",
    "\n",
    "\n",
    "# If your not careful you can make the mistake of testing against your learning data which won't give you representative results!\n",
    "# Try upping the tree depth and lowering the number of training examples to see the effect of over fitting.\n",
    "# correct = []\n",
    "# for s,r in zip(knightStats, battleResults):\n",
    "#    p = applyTree(battleTree,  s)\n",
    "#    correct.append(1-abs(r - p))\n",
    "# print \"`testting` against my training data I got %s out of %s correct, that's %s%%.\" % (sum(correct), len(correct), ((sum(correct)*100.0)/len(correct)))"
   ]
  }
 ],
 "metadata": {
  "anaconda-cloud": {},
  "kernelspec": {
   "display_name": "Python [conda root]",
   "language": "python",
   "name": "conda-root-py"
  },
  "language_info": {
   "codemirror_mode": {
    "name": "ipython",
    "version": 2
   },
   "file_extension": ".py",
   "mimetype": "text/x-python",
   "name": "python",
   "nbconvert_exporter": "python",
   "pygments_lexer": "ipython2",
   "version": "2.7.12"
  }
 },
 "nbformat": 4,
 "nbformat_minor": 1
}
